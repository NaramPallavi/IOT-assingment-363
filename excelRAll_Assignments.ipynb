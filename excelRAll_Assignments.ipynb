{
  "nbformat": 4,
  "nbformat_minor": 0,
  "metadata": {
    "colab": {
      "provenance": [],
      "include_colab_link": true
    },
    "kernelspec": {
      "name": "python3",
      "display_name": "Python 3"
    },
    "language_info": {
      "name": "python"
    }
  },
  "cells": [
    {
      "cell_type": "markdown",
      "metadata": {
        "id": "view-in-github",
        "colab_type": "text"
      },
      "source": [
        "<a href=\"https://colab.research.google.com/github/NaramPallavi/IOT-assingment-363/blob/main/excelRAll_Assignments.ipynb\" target=\"_parent\"><img src=\"https://colab.research.google.com/assets/colab-badge.svg\" alt=\"Open In Colab\"/></a>"
      ]
    },
    {
      "cell_type": "code",
      "execution_count": 1,
      "metadata": {
        "colab": {
          "base_uri": "https://localhost:8080/"
        },
        "id": "NaJg12jyxXsM",
        "outputId": "8d783dd3-7b1a-4278-f990-aca2a27c0024"
      },
      "outputs": [
        {
          "output_type": "stream",
          "name": "stdout",
          "text": [
            "Integer: 10, Type: <class 'int'>\n",
            "Float: 20.5, Type: <class 'float'>\n",
            "String: Hello, Jupyter!, Type: <class 'str'>\n",
            "Boolean: True, Type: <class 'bool'>\n"
          ]
        }
      ],
      "source": [
        "#day2,1. Write a program in Jupyter Notebook to declare variables of different data types (integer, float, string, and boolean). Print each variable and its type.\n",
        "\n",
        "integer_var = 10\n",
        "float_var = 20.5\n",
        "string_var = \"Hello, Jupyter!\"\n",
        "boolean_var = True\n",
        "print(f\"Integer: {integer_var}, Type: {type(integer_var)}\")\n",
        "print(f\"Float: {float_var}, Type: {type(float_var)}\")\n",
        "print(f\"String: {string_var}, Type: {type(string_var)}\")\n",
        "print(f\"Boolean: {boolean_var}, Type: {type(boolean_var)}\")\n"
      ]
    },
    {
      "cell_type": "code",
      "source": [
        "#day-3,2Create a List, tuple and Dictionary with 5 elements in it and how to access few elements based on the index. Try  with different examples\n",
        "integer_var = 10\n",
        "float_var = 20.5\n",
        "string_var = \"Hello, Jupyter!\"\n",
        "boolean_var = True\n",
        "print(f\"Integer: {integer_var}, Type: {type(integer_var)}\")\n",
        "print(f\"Float: {float_var}, Type: {type(float_var)}\")\n",
        "print(f\"String: {string_var}, Type: {type(string_var)}\")\n",
        "print(f\"Boolean: {boolean_var}, Type: {type(boolean_var)}\")\n"
      ],
      "metadata": {
        "colab": {
          "base_uri": "https://localhost:8080/"
        },
        "id": "t8D-AOK1xnwI",
        "outputId": "1cd7389b-4fcd-4280-94f1-3f3d6ab1c250"
      },
      "execution_count": 2,
      "outputs": [
        {
          "output_type": "stream",
          "name": "stdout",
          "text": [
            "Integer: 10, Type: <class 'int'>\n",
            "Float: 20.5, Type: <class 'float'>\n",
            "String: Hello, Jupyter!, Type: <class 'str'>\n",
            "Boolean: True, Type: <class 'bool'>\n"
          ]
        }
      ]
    },
    {
      "cell_type": "code",
      "source": [
        "#day4,3Write a Python program that takes a student's marks in three subjects as input. If the average is greater than or equal to 90, print \"Grade: A\". If the average is between 80 and 89, print \"Grade: B\". If the average is between 70 and 79, print \"Grade: C\". Otherwise, print \"Grade: Fail\". in python\n",
        "# Taking input for marks in three subjects\n",
        "subject1 = float(input(\"Enter marks for Subject 1: \"))\n",
        "subject2 = float(input(\"Enter marks for Subject 2: \"))\n",
        "subject3 = float(input(\"Enter marks for Subject 3: \"))\n",
        "\n",
        "average = (subject1 + subject2 + subject3) / 3\n",
        "\n",
        "if average >= 90:\n",
        "    print(\"Grade: A\")\n",
        "elif 80 <= average < 90:\n",
        "    print(\"Grade: B\")\n",
        "elif 70 <= average < 80:\n",
        "    print(\"Grade: C\")\n",
        "else:\n",
        "    print(\"Grade: Fail\")\n"
      ],
      "metadata": {
        "colab": {
          "base_uri": "https://localhost:8080/"
        },
        "id": "ppLol4_AxoLn",
        "outputId": "cf712016-d671-4d6d-da61-c391d9acdba8"
      },
      "execution_count": 3,
      "outputs": [
        {
          "output_type": "stream",
          "name": "stdout",
          "text": [
            "Enter marks for Subject 1: 56\n",
            "Enter marks for Subject 2: 34\n",
            "Enter marks for Subject 3: 12\n",
            "Grade: Fail\n"
          ]
        }
      ]
    },
    {
      "cell_type": "code",
      "source": [
        "#day-4,3bWrite a Python program to calculate the sum of all even numbers between 1 and a given positive integer n\n",
        "def sum_of_evens(n):\n",
        "    # Using list comprehension and sum function\n",
        "    return sum(i for i in range(2, n + 1, 2))\n",
        "\n",
        "# Taking input from the user\n",
        "n = int(input(\"Enter a positive integer: \"))\n",
        "\n",
        "# Ensuring the input is positive\n",
        "if n <= 0:\n",
        "    print(\"Please enter a positive integer.\")\n",
        "else:\n",
        "    result = sum_of_evens(n)\n",
        "    print(f\"The sum of all even numbers between 1 and {n} is: {result}\")\n"
      ],
      "metadata": {
        "colab": {
          "base_uri": "https://localhost:8080/"
        },
        "id": "VZL2yUQ6xotG",
        "outputId": "c9e4eaaf-92b6-4d6b-c11d-6bf8bd849b34"
      },
      "execution_count": 4,
      "outputs": [
        {
          "output_type": "stream",
          "name": "stdout",
          "text": [
            "Enter a positive integer: 4\n",
            "The sum of all even numbers between 1 and 4 is: 6\n"
          ]
        }
      ]
    },
    {
      "cell_type": "code",
      "source": [
        "#day-54write a python program to calculate frequency of each word in given text . print words and their corresponding counts\n",
        "from collections import Counter\n",
        "\n",
        "def word_frequency(text):\n",
        "    # Convert text to lowercase and split into words\n",
        "    words = text.lower().split()\n",
        "\n",
        "    # Count the frequency of each word\n",
        "    word_counts = Counter(words)\n",
        "\n",
        "    # Print words and their corresponding counts\n",
        "    for word, count in word_counts.items():\n",
        "        print(f\"{word}: {count}\")\n",
        "\n",
        "# Example usage\n",
        "text = input(\"Enter a text: \")\n",
        "word_frequency(text)\n"
      ],
      "metadata": {
        "colab": {
          "base_uri": "https://localhost:8080/"
        },
        "id": "m1rEi6lNyKXM",
        "outputId": "61d57455-ed7b-478a-c994-9075ec972173"
      },
      "execution_count": 5,
      "outputs": [
        {
          "output_type": "stream",
          "name": "stdout",
          "text": [
            "Enter a text: hloo\n",
            "hloo: 1\n"
          ]
        }
      ]
    },
    {
      "cell_type": "code",
      "source": [
        "#day-7,6Write a Python program to using NLTK and Spacy Convert text to lowercase. Remove stopwords using NLTK\n",
        "import nltk\n",
        "import spacy\n",
        "from nltk.corpus import stopwords\n",
        "from collections import Counter\n",
        "\n",
        "# Download stopwords if not already downloaded\n",
        "nltk.download('stopwords')\n",
        "stop_words = set(stopwords.words('english'))\n",
        "\n",
        "# Load Spacy model\n",
        "nlp = spacy.load(\"en_core_web_sm\")\n",
        "\n",
        "def word_frequency(text):\n",
        "    # Convert text to lowercase\n",
        "    text = text.lower()\n",
        "\n",
        "    # Process text using Spacy\n",
        "    doc = nlp(text)\n",
        "\n",
        "    # Tokenize and remove stopwords\n",
        "    words = [token.text for token in doc if token.text not in stop_words and token.is_alpha]\n",
        "\n",
        "    # Count the frequency of each word\n",
        "    word_counts = Counter(words)\n",
        "\n",
        "    # Print words and their corresponding counts\n",
        "    for word, count in word_counts.items():\n",
        "        print(f\"{word}: {count}\")\n",
        "\n",
        "# Example usage\n",
        "text = input(\"Enter a text: \")\n",
        "word_frequency(text)"
      ],
      "metadata": {
        "colab": {
          "base_uri": "https://localhost:8080/"
        },
        "id": "RHv0WEV0y3IA",
        "outputId": "097d2ae3-5b37-40ce-b9af-215df3da0cc5"
      },
      "execution_count": 6,
      "outputs": [
        {
          "output_type": "stream",
          "name": "stderr",
          "text": [
            "[nltk_data] Downloading package stopwords to /root/nltk_data...\n",
            "[nltk_data]   Unzipping corpora/stopwords.zip.\n"
          ]
        },
        {
          "output_type": "stream",
          "name": "stdout",
          "text": [
            "Enter a text: hi\n",
            "hi: 1\n"
          ]
        }
      ]
    },
    {
      "cell_type": "code",
      "source": [
        "#day9\n",
        "import gensim\n",
        "import gensim.downloader as api\n",
        "from gensim.utils import simple_preprocess\n",
        "from gensim.parsing.preprocessing import remove_stopwords\n",
        "from nltk.stem import PorterStemmer\n",
        "from nltk.stem import WordNetLemmatizer\n",
        "import nltk\n",
        "import string\n",
        "import os\n",
        "\n",
        "# Download necessary NLTK resources\n",
        "nltk.download('wordnet')\n",
        "nltk.download('omw-1.4')\n",
        "nltk.download('punkt')\n",
        "nltk.download('stopwords')\n",
        "\n",
        "from nltk.corpus import stopwords\n",
        "\n",
        "def preprocess_text(text):\n",
        "    # Convert to lowercase\n",
        "    text = text.lower()\n",
        "\n",
        "    # Remove punctuation\n",
        "    text = text.translate(str.maketrans('', '', string.punctuation))\n",
        "\n",
        "    # Tokenization\n",
        "    tokens = simple_preprocess(text)\n",
        "\n",
        "    # Remove stopwords\n",
        "    tokens = [word for word in tokens if word not in stopwords.words('english')]\n",
        "\n",
        "    # Stemming\n",
        "    stemmer = PorterStemmer()\n",
        "    stemmed_tokens = [stemmer.stem(word) for word in tokens]\n",
        "\n",
        "    # Lemmatization\n",
        "    lemmatizer = WordNetLemmatizer()\n",
        "    lemmatized_tokens = [lemmatizer.lemmatize(word) for word in stemmed_tokens]\n",
        "\n",
        "    return lemmatized_tokens\n",
        "\n",
        "# Check if sample text file exists\n",
        "file_path = \"sample_text.txt\"\n",
        "if os.path.exists(file_path):\n",
        "    with open(file_path, \"r\", encoding=\"utf-8\") as file:\n",
        "        text_data = file.read()\n",
        "    # Preprocess text\n",
        "    processed_tokens = preprocess_text(text_data)\n",
        "    print(\"Processed Tokens:\", processed_tokens)\n",
        "else:\n",
        "    print(f\"Error: File '{file_path}' not found. Please provide a valid text file.\")"
      ],
      "metadata": {
        "colab": {
          "base_uri": "https://localhost:8080/"
        },
        "id": "EJNn9Ii21QwF",
        "outputId": "d074c53f-a317-4bec-d050-873821c48cca"
      },
      "execution_count": 7,
      "outputs": [
        {
          "output_type": "stream",
          "name": "stderr",
          "text": [
            "[nltk_data] Downloading package wordnet to /root/nltk_data...\n",
            "[nltk_data] Downloading package omw-1.4 to /root/nltk_data...\n",
            "[nltk_data] Downloading package punkt to /root/nltk_data...\n",
            "[nltk_data]   Unzipping tokenizers/punkt.zip.\n"
          ]
        },
        {
          "output_type": "stream",
          "name": "stdout",
          "text": [
            "Error: File 'sample_text.txt' not found. Please provide a valid text file.\n"
          ]
        },
        {
          "output_type": "stream",
          "name": "stderr",
          "text": [
            "[nltk_data] Downloading package stopwords to /root/nltk_data...\n",
            "[nltk_data]   Package stopwords is already up-to-date!\n"
          ]
        }
      ]
    },
    {
      "cell_type": "code",
      "source": [
        "#day11\n",
        "import nltk\n",
        "from nltk.tokenize import word_tokenize, sent_tokenize\n",
        "import os\n",
        "\n",
        "# Download necessary NLTK resources\n",
        "nltk.download('punkt')\n",
        "\n",
        "def tokenize_text(text):\n",
        "    # Tokenize into sentences\n",
        "    sentences = sent_tokenize(text)\n",
        "\n",
        "    # Tokenize into words\n",
        "    words = word_tokenize(text)\n",
        "\n",
        "    return sentences, words\n",
        "\n",
        "# Check if sample text file exists\n",
        "file_path = \"sample_text.txt\"\n",
        "if os.path.exists(file_path):\n",
        "    with open(file_path, \"r\", encoding=\"utf-8\") as file:\n",
        "        text_data = file.read()\n",
        "\n",
        "    # Tokenize text\n",
        "    sentences, words = tokenize_text(text_data)\n",
        "    print(\"Tokenized Sentences:\", sentences)\n",
        "    print(\"Tokenized Words:\", words)\n",
        "else:\n",
        "    print(f\"Error: File '{file_path}' not found. Please provide a valid text file.\")"
      ],
      "metadata": {
        "colab": {
          "base_uri": "https://localhost:8080/"
        },
        "id": "xKWpitg0z8yd",
        "outputId": "be18aa16-e5fa-4b38-d0e4-91dc73c51d5e"
      },
      "execution_count": 8,
      "outputs": [
        {
          "output_type": "stream",
          "name": "stdout",
          "text": [
            "Error: File 'sample_text.txt' not found. Please provide a valid text file.\n"
          ]
        },
        {
          "output_type": "stream",
          "name": "stderr",
          "text": [
            "[nltk_data] Downloading package punkt to /root/nltk_data...\n",
            "[nltk_data]   Package punkt is already up-to-date!\n"
          ]
        }
      ]
    },
    {
      "cell_type": "code",
      "source": [
        "#day13\n",
        "import re\n",
        "\n",
        "def clean_text(text):\n",
        "    # Convert text to lowercase\n",
        "    text = text.lower()\n",
        "\n",
        "    # Remove special characters using regex\n",
        "    text = re.sub(r'[^a-z0-9\\s]', '', text)\n",
        "\n",
        "    return text\n",
        "\n",
        "# Test the function\n",
        "sample_text = 'Hello, World! Welcome to NLP 101.'\n",
        "cleaned_text = clean_text(sample_text)\n",
        "print(\"Cleaned Text:\", cleaned_text)"
      ],
      "metadata": {
        "colab": {
          "base_uri": "https://localhost:8080/"
        },
        "id": "QMlwq8Fm0-Gv",
        "outputId": "def8fea9-20e6-46aa-87ef-c2b6514af972"
      },
      "execution_count": 9,
      "outputs": [
        {
          "output_type": "stream",
          "name": "stdout",
          "text": [
            "Cleaned Text: hello world welcome to nlp 101\n"
          ]
        }
      ]
    },
    {
      "cell_type": "code",
      "source": [
        "#day15\n",
        "import re\n",
        "\n",
        "def extract_emails(text):\n",
        "    # Regular expression pattern for extracting emails\n",
        "    email_pattern = r'\\b[A-Za-z0-9._%+-]+@[A-Za-z0-9.-]+\\.[A-Z|a-z]{2,}\\b'\n",
        "\n",
        "    # Find all email addresses in the text\n",
        "    emails = re.findall(email_pattern, text)\n",
        "\n",
        "    return emails\n",
        "\n",
        "# Test the function\n",
        "sample_text = 'Contact us at support@example.com and sales@example.org.'\n",
        "extracted_emails = extract_emails(sample_text)\n",
        "print(\"Extracted Emails:\", extracted_emails)"
      ],
      "metadata": {
        "colab": {
          "base_uri": "https://localhost:8080/"
        },
        "id": "rKlI1r-z1gXy",
        "outputId": "fa76b8cc-f1af-424c-db7a-b4df32aca269"
      },
      "execution_count": null,
      "outputs": [
        {
          "output_type": "stream",
          "name": "stdout",
          "text": [
            "Extracted Emails: ['support@example.com', 'sales@example.org']\n"
          ]
        }
      ]
    },
    {
      "cell_type": "code",
      "source": [
        "#day18\n",
        "import requests\n",
        "from bs4 import BeautifulSoup\n",
        "\n",
        "def fetch_webpage_title(url):\n",
        "    try:\n",
        "        # Send a GET request to the webpage\n",
        "        response = requests.get(url)\n",
        "        response.raise_for_status()  # Raise an error for bad status codes\n",
        "\n",
        "        # Parse the webpage content\n",
        "        soup = BeautifulSoup(response.text, 'html.parser')\n",
        "\n",
        "        # Extract and return the title\n",
        "        return soup.title.string if soup.title else \"No title found\"\n",
        "    except requests.exceptions.RequestException as e:\n",
        "        return f\"Error fetching webpage: {e}\"\n",
        "\n",
        "# Test the function\n",
        "url = 'https://example.com'\n",
        "webpage_title = fetch_webpage_title(url)\n",
        "print(\"Webpage Title:\", webpage_title)"
      ],
      "metadata": {
        "colab": {
          "base_uri": "https://localhost:8080/"
        },
        "id": "3fxbcHJ211RW",
        "outputId": "a6c6de8e-ac65-4ff6-ed26-efd2c96d35f9"
      },
      "execution_count": 10,
      "outputs": [
        {
          "output_type": "stream",
          "name": "stdout",
          "text": [
            "Webpage Title: Example Domain\n"
          ]
        }
      ]
    },
    {
      "cell_type": "code",
      "source": [
        "#day20\n",
        "from wordcloud import WordCloud\n",
        "import matplotlib.pyplot as plt\n",
        "\n",
        "def generate_wordcloud(text, output_filename):\n",
        "    # Generate the WordCloud\n",
        "    wordcloud = WordCloud(width=800, height=400, background_color='white').generate(text)\n",
        "\n",
        "    # Display the WordCloud\n",
        "    plt.figure(figsize=(10, 5))\n",
        "    plt.imshow(wordcloud, interpolation='bilinear')\n",
        "    plt.axis(\"off\")\n",
        "\n",
        "    # Save the WordCloud image\n",
        "    wordcloud.to_file(output_filename)\n",
        "    print(f\"WordCloud saved as {output_filename}\")\n",
        "\n",
        "# Sample text\n",
        "data_text = 'data science machine learning artificial intelligence'\n",
        "\n",
        "# Generate and save WordCloud\n",
        "#day20\n",
        "from wordcloud import WordCloud\n",
        "import matplotlib.pyplot as plt\n",
        "\n",
        "def generate_wordcloud(text, output_filename):\n",
        "    # Generate the WordCloud\n",
        "    wordcloud = WordCloud(width=800, height=400, background_color='white').generate(text)\n",
        "\n",
        "    # Display the WordCloud\n",
        "    plt.figure(figsize=(10, 5))\n",
        "    plt.imshow(wordcloud, interpolation='bilinear')\n",
        "    plt.axis(\"off\")\n",
        "\n",
        "    # Save the WordCloud image\n",
        "    wordcloud.to_file(output_filename)\n",
        "    print(f\"WordCloud saved as {output_filename}\")\n",
        "\n",
        "# Sample text\n",
        "data_text = 'data science machine learning artificial intelligence'\n",
        "\n",
        "# Generate and save WordCloud\n",
        "generate_wordcloud(data_text, 'wordcloud.png')"
      ],
      "metadata": {
        "colab": {
          "base_uri": "https://localhost:8080/",
          "height": 439
        },
        "id": "M6cxAnTe3k-H",
        "outputId": "a675fda3-31e2-4c6b-fccb-f1b6217ff126"
      },
      "execution_count": 11,
      "outputs": [
        {
          "output_type": "stream",
          "name": "stdout",
          "text": [
            "WordCloud saved as wordcloud.png\n"
          ]
        },
        {
          "output_type": "display_data",
          "data": {
            "text/plain": [
              "<Figure size 1000x500 with 1 Axes>"
            ],
            "image/png": "[encoded data removed]"
          },
          "metadata": {}
        }
      ]
    },
    {
      "cell_type": "code",
      "source": [
        "#22\n",
        "import spacy\n",
        "\n",
        "def pos_tagging(sentence):\n",
        "    # Load the English language model\n",
        "    nlp = spacy.load(\"en_core_web_sm\")\n",
        "\n",
        "    # Process the sentence\n",
        "    doc = nlp(sentence)\n",
        "\n",
        "    # Print word with corresponding POS tag\n",
        "    for token in doc:\n",
        "        print(f\"{token.text}: {token.pos_}\")\n",
        "\n",
        "if __name__ == \"__main__\":\n",
        "    sentence = \"NLP is amazing and fun to learn.\"\n",
        "    pos_tagging(sentence)\n"
      ],
      "metadata": {
        "colab": {
          "base_uri": "https://localhost:8080/"
        },
        "id": "zsVQNp2G4sl6",
        "outputId": "5ae9fa2a-8655-4fbe-8815-66363f600cd2"
      },
      "execution_count": 12,
      "outputs": [
        {
          "output_type": "stream",
          "name": "stderr",
          "text": [
            "/usr/local/lib/python3.11/dist-packages/spacy/util.py:1740: UserWarning: [W111] Jupyter notebook detected: if using `prefer_gpu()` or `require_gpu()`, include it in the same cell right before `spacy.load()` to ensure that the model is loaded on the correct device. More information: http://spacy.io/usage/v3#jupyter-notebook-gpu\n",
            "  warnings.warn(Warnings.W111)\n"
          ]
        },
        {
          "output_type": "stream",
          "name": "stdout",
          "text": [
            "NLP: PROPN\n",
            "is: AUX\n",
            "amazing: ADJ\n",
            "and: CCONJ\n",
            "fun: ADJ\n",
            "to: PART\n",
            "learn: VERB\n",
            ".: PUNCT\n"
          ]
        }
      ]
    },
    {
      "cell_type": "code",
      "source": [
        "#26\n",
        "from sklearn.feature_extraction.text import TfidfVectorizer\n",
        "from sklearn.metrics.pairwise import cosine_similarity\n",
        "\n",
        "def calculate_cosine_similarity(text1, text2):\n",
        "    vectorizer = TfidfVectorizer()\n",
        "    tfidf_matrix = vectorizer.fit_transform([text1, text2])\n",
        "    similarity = cosine_similarity(tfidf_matrix[0], tfidf_matrix[1])\n",
        "    return similarity[0][0]\n",
        "\n",
        "# Example usage\n",
        "text1 = \"Machine learning is fascinating.\"\n",
        "text2 = \"Deep learning is a subset of machine learning.\"\n",
        "similarity_score = calculate_cosine_similarity(text1, text2)\n",
        "print(f\"Cosine Similarity: {similarity_score:.4f}\")\n"
      ],
      "metadata": {
        "colab": {
          "base_uri": "https://localhost:8080/"
        },
        "id": "XzT_bGjS4neT",
        "outputId": "d4e32baf-8de8-41a8-be57-772f3cb700e5"
      },
      "execution_count": 13,
      "outputs": [
        {
          "output_type": "stream",
          "name": "stdout",
          "text": [
            "Cosine Similarity: 0.5193\n"
          ]
        }
      ]
    },
    {
      "cell_type": "code",
      "source": [
        "#28\n",
        "import spacy\n",
        "\n",
        "def perform_ner(text):\n",
        "    \"\"\"Performs Named Entity Recognition (NER) using SpaCy and prints entities and their types.\"\"\"\n",
        "    nlp = spacy.load(\"en_core_web_sm\")\n",
        "    doc = nlp(text)\n",
        "\n",
        "    print(\"Named Entities and their Types:\")\n",
        "    for ent in doc.ents:\n",
        "        print(f\"{ent.text}: {ent.label_}\")\n",
        "\n",
        "def main():\n",
        "    text = input(\"Enter text for Named Entity Recognition: \")\n",
        "    perform_ner(text)\n",
        "\n",
        "if __name__ == \"__main__\":\n",
        "    main()"
      ],
      "metadata": {
        "colab": {
          "base_uri": "https://localhost:8080/"
        },
        "id": "ikUulIAk4dMF",
        "outputId": "c377104e-c566-495f-ca53-40eb21283af7"
      },
      "execution_count": 14,
      "outputs": [
        {
          "output_type": "stream",
          "name": "stdout",
          "text": [
            "Enter text for Named Entity Recognition: t\n",
            "Named Entities and their Types:\n"
          ]
        }
      ]
    },
    {
      "cell_type": "code",
      "source": [
        "#30\n",
        "from textblob import TextBlob\n",
        "\n",
        "def analyze_sentiment(text):\n",
        "    \"\"\"Analyzes sentiment using TextBlob and returns sentiment category.\"\"\"\n",
        "    analysis = TextBlob(text)\n",
        "    polarity = analysis.sentiment.polarity\n",
        "\n",
        "    if polarity > 0:\n",
        "        return \"Positive\"\n",
        "    elif polarity < 0:\n",
        "        return \"Negative\"\n",
        "    else:\n",
        "        return \"Neutral\"\n",
        "\n",
        "def main():\n",
        "    text = input(\"Enter text for sentiment analysis: \")\n",
        "    sentiment = analyze_sentiment(text)\n",
        "    print(f\"Sentiment: {sentiment}\")\n",
        "\n",
        "if __name__ == \"__main__\":\n",
        "    main()"
      ],
      "metadata": {
        "colab": {
          "base_uri": "https://localhost:8080/"
        },
        "id": "II1brCmT4Za2",
        "outputId": "bbc82edf-6793-42f0-8089-873c5050f178"
      },
      "execution_count": 15,
      "outputs": [
        {
          "output_type": "stream",
          "name": "stdout",
          "text": [
            "Enter text for sentiment analysis: the\n",
            "Sentiment: Neutral\n"
          ]
        }
      ]
    },
    {
      "cell_type": "code",
      "source": [
        "#Day 32\n",
        "import re\n",
        "from collections import Counter\n",
        "\n",
        "def tokenize(text):\n",
        "    \"\"\"Tokenizes text into words, removing punctuation and converting to lowercase.\"\"\"\n",
        "    tokens = re.findall(r'\\b\\w+\\b', text.lower())\n",
        "    return tokens\n",
        "\n",
        "def compute_tf(tokens):\n",
        "    \"\"\"Computes term frequency (TF) for each token.\"\"\"\n",
        "    return Counter(tokens)\n",
        "\n",
        "def main():\n",
        "    text = input(\"Enter text: \")  # User inputs text\n",
        "    tokens = tokenize(text)\n",
        "    tf = compute_tf(tokens)\n",
        "\n",
        "    print(\"Top 5 most frequent tokens:\")\n",
        "    for word, freq in tf.most_common(5):\n",
        "        print(f\"{word}: {freq}\")\n",
        "\n",
        "if __name__ == \"__main__\":\n",
        "    main()\n"
      ],
      "metadata": {
        "colab": {
          "base_uri": "https://localhost:8080/"
        },
        "id": "c-J2VPRw3vkB",
        "outputId": "ae1017b7-16d1-4dbf-8434-7e3d3724a5a3"
      },
      "execution_count": 16,
      "outputs": [
        {
          "output_type": "stream",
          "name": "stdout",
          "text": [
            "Enter text: r\n",
            "Top 5 most frequent tokens:\n",
            "r: 1\n"
          ]
        }
      ]
    },
    {
      "cell_type": "code",
      "source": [],
      "metadata": {
        "id": "MYSfWgIZ4O5A"
      },
      "execution_count": null,
      "outputs": []
    }
  ]
}